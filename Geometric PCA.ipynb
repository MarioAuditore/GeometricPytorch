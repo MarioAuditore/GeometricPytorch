{
 "cells": [
  {
   "cell_type": "code",
   "execution_count": null,
   "metadata": {
    "id": "weg12QJfB10L"
   },
   "outputs": [],
   "source": [
    "import torch\n",
    "from torch import nn\n",
    "from torch.optim.optimizer import Optimizer\n",
    "import numpy as np\n",
    "import scipy\n",
    "from tqdm import tqdm"
   ]
  },
  {
   "cell_type": "markdown",
   "metadata": {
    "id": "hBvXbhu2aPsv"
   },
   "source": [
    "# Original PCA"
   ]
  },
  {
   "cell_type": "code",
   "execution_count": null,
   "metadata": {
    "id": "5izCuJoTWSDi"
   },
   "outputs": [],
   "source": [
    "import matplotlib.pyplot as plt\n",
    "from sklearn.decomposition import PCA\n",
    "from sklearn.datasets import load_wine\n",
    "from sklearn.preprocessing import StandardScaler\n",
    "\n",
    "\n",
    "data = load_wine()\n",
    "scaler = StandardScaler()\n",
    "\n",
    "X = scaler.fit_transform(data['data'])\n",
    "y = data['target']"
   ]
  },
  {
   "cell_type": "code",
   "execution_count": null,
   "metadata": {
    "colab": {
     "base_uri": "https://localhost:8080/",
     "height": 282
    },
    "executionInfo": {
     "elapsed": 641,
     "status": "ok",
     "timestamp": 1642708782287,
     "user": {
      "displayName": "Эльфат Сабитов",
      "photoUrl": "https://lh3.googleusercontent.com/a/default-user=s64",
      "userId": "15165866794648613016"
     },
     "user_tz": -180
    },
    "id": "y5LaWFmqXM1L",
    "outputId": "291f5c11-09ca-4c1e-86a1-d727f657ad2c"
   },
   "outputs": [
    {
     "data": {
      "text/plain": [
       "<matplotlib.legend.Legend at 0x7f0f7107bdd0>"
      ]
     },
     "execution_count": 3,
     "metadata": {},
     "output_type": "execute_result"
    },
    {
     "data": {
      "image/png": "[encoded data removed]",
      "text/plain": [
       "<Figure size 432x288 with 1 Axes>"
      ]
     },
     "metadata": {
      "needs_background": "light"
     },
     "output_type": "display_data"
    }
   ],
   "source": [
    "pca = PCA(n_components = 2)\n",
    "projected_pca = pca.fit_transform(X)\n",
    "colors = [plt.cm.Spectral(each) for each in np.linspace(0, 1, len(set(y)))]\n",
    "\n",
    "\n",
    "for label in set(y):\n",
    "  plt.scatter(projected_pca[np.where(y == label)][:,0], projected_pca[np.where(y == label)][:,1], color=colors[label], label=label)\n",
    "plt.legend()"
   ]
  },
  {
   "cell_type": "markdown",
   "metadata": {
    "id": "E0sJxOEgaRyI"
   },
   "source": [
    "# Custom PCA"
   ]
  },
  {
   "cell_type": "code",
   "execution_count": null,
   "metadata": {
    "id": "cnUbVEoLB__B"
   },
   "outputs": [],
   "source": [
    "def projection(vector, point):\n",
    "  '''\n",
    "  Projects a vector on a tangent space of a manifold with the point on it.\n",
    "\n",
    "  Params:\n",
    "  -------\n",
    "  vector : torch.tensor\n",
    "      Vector we nee to project\n",
    "  point : torch.tensor\n",
    "      Point on a manifold\n",
    "\n",
    "  Returns:\n",
    "  --------\n",
    "  vector_R : torch.tensor\n",
    "      Projection of a vector on a tangent space\n",
    "  '''\n",
    "  W_hat = vector.mm(point.t()) - 1/2 * point.mm(point.t().mm(vector.mm(point.t())))\n",
    "  W = W_hat - W_hat.t()\n",
    "  vector_R = W.mm(point)\n",
    "  return vector_R\n",
    "\n",
    "def retraction(tangent_vector):\n",
    "  '''\n",
    "  Retraction from tangent space to manifold\n",
    "  \n",
    "  Params:\n",
    "  -------\n",
    "  tangent_vector : torch.tensor\n",
    "      Vector from tangent space\n",
    "\n",
    "  Returns:\n",
    "  : torch.tensor\n",
    "      Point on a manifold\n",
    "  '''\n",
    "  u, _, vh = torch.linalg.svd(tangent_vector , full_matrices=False)  \n",
    "  return u.mm(vh)\n"
   ]
  },
  {
   "cell_type": "code",
   "execution_count": null,
   "metadata": {
    "id": "Rufn7dPKD0EA"
   },
   "outputs": [],
   "source": [
    "class RiemOpt_custom(Optimizer):\n",
    "\n",
    "  def __init__(self, parameters, lr = 1e-3):\n",
    "    defaults = {'lr': lr}\n",
    "    super().__init__(parameters, defaults)\n",
    "\n",
    "  def step(self, closure = None):\n",
    "        loss = None\n",
    "        if closure is not None:\n",
    "          loss = closure()\n",
    "\n",
    "        with torch.no_grad():\n",
    "          \n",
    "            for group in self.param_groups:\n",
    "                if \"step\" not in group:\n",
    "                    group[\"step\"] = 0\n",
    "\n",
    "                for point in group[\"params\"]:\n",
    "                    grad = point.grad.data\n",
    "                    if grad is None:\n",
    "                        continue\n",
    "                    \n",
    "                    # Projection \n",
    "                    grad_R = projection(grad, point)\n",
    "\n",
    "                    # Step on tangent space\n",
    "                    step_vector = point - group['lr']* grad_R\n",
    "\n",
    "                    # Retraction\n",
    "                    point_target = retraction(step_vector)\n",
    "                    point.copy_(point_target)\n",
    "                    point.requires_grad = True\n",
    "                    \n",
    "        return loss"
   ]
  },
  {
   "cell_type": "code",
   "execution_count": null,
   "metadata": {
    "id": "4ETKHu87CDIf"
   },
   "outputs": [],
   "source": [
    "class PCA_custom(nn.Module):\n",
    "    def __init__(self, input_shape, output_shape):\n",
    "        super().__init__()\n",
    "        # Define all Layers Here\n",
    "        Q, _ = np.linalg.qr(np.random.rand(input_shape, input_shape) * np.sqrt(2 / output_shape))\n",
    "        Q = torch.tensor(np.round(Q, 14)[:,:output_shape], )\n",
    "        self.P = nn.Parameter(Q, requires_grad=True)\n",
    "        print(f'PCA matrix size {self.P.size()}')\n",
    "\n",
    "    def forward(self, x):\n",
    "        # Connect the layer Outputs here to define the forward pass\n",
    "        x_1 = self.P.t().mm(x)  # (n_dim_new x n_dim_old) x (n_dim_old x n_samples)\n",
    "        return x_1"
   ]
  },
  {
   "cell_type": "code",
   "execution_count": null,
   "metadata": {
    "id": "cJJz6jFngvtP"
   },
   "outputs": [],
   "source": [
    "def pca_loss(P, X):\n",
    "  return torch.pow(torch.norm(input= (X - P.mm(torch.mm(P.t(), X))), p='fro' ), 2)"
   ]
  },
  {
   "cell_type": "markdown",
   "metadata": {
    "id": "iqsdsynoctmQ"
   },
   "source": [
    "## Training"
   ]
  },
  {
   "cell_type": "code",
   "execution_count": null,
   "metadata": {
    "colab": {
     "base_uri": "https://localhost:8080/"
    },
    "executionInfo": {
     "elapsed": 63,
     "status": "ok",
     "timestamp": 1642708782291,
     "user": {
      "displayName": "Эльфат Сабитов",
      "photoUrl": "https://lh3.googleusercontent.com/a/default-user=s64",
      "userId": "15165866794648613016"
     },
     "user_tz": -180
    },
    "id": "0vq52z1SbkRF",
    "outputId": "6ec578b5-7975-4105-be47-bd8c0be4e407"
   },
   "outputs": [
    {
     "data": {
      "text/plain": [
       "(178, 13)"
      ]
     },
     "execution_count": 8,
     "metadata": {},
     "output_type": "execute_result"
    }
   ],
   "source": [
    "# (n_samples x n_dim_old)\n",
    "X.shape"
   ]
  },
  {
   "cell_type": "code",
   "execution_count": null,
   "metadata": {
    "colab": {
     "base_uri": "https://localhost:8080/"
    },
    "executionInfo": {
     "elapsed": 60,
     "status": "ok",
     "timestamp": 1642708782292,
     "user": {
      "displayName": "Эльфат Сабитов",
      "photoUrl": "https://lh3.googleusercontent.com/a/default-user=s64",
      "userId": "15165866794648613016"
     },
     "user_tz": -180
    },
    "id": "sL_Zqla_IFtW",
    "outputId": "9a877d22-6a1d-4912-f02a-41ebf84b1282"
   },
   "outputs": [
    {
     "name": "stdout",
     "output_type": "stream",
     "text": [
      "PCA matrix size torch.Size([13, 2])\n"
     ]
    },
    {
     "data": {
      "text/plain": [
       "tensor(1634.0133, dtype=torch.float64, grad_fn=<PowBackward0>)"
      ]
     },
     "execution_count": 9,
     "metadata": {},
     "output_type": "execute_result"
    }
   ],
   "source": [
    "# Transform to (n_dim_old x n_samples)\n",
    "tensor_data = torch.tensor(X.T)\n",
    "\n",
    "pca_custom = PCA_custom(tensor_data.shape[0], 2)\n",
    "\n",
    "criterion = pca_loss\n",
    "\n",
    "optimizer = RiemOpt_custom(pca_custom.parameters(), lr=1e-4)\n",
    "\n",
    "criterion(pca_custom.P, tensor_data)"
   ]
  },
  {
   "cell_type": "code",
   "execution_count": null,
   "metadata": {
    "colab": {
     "base_uri": "https://localhost:8080/"
    },
    "executionInfo": {
     "elapsed": 706,
     "status": "ok",
     "timestamp": 1642708782941,
     "user": {
      "displayName": "Эльфат Сабитов",
      "photoUrl": "https://lh3.googleusercontent.com/a/default-user=s64",
      "userId": "15165866794648613016"
     },
     "user_tz": -180
    },
    "id": "jNyaPgAhkzcK",
    "outputId": "dacceba8-2a23-4ceb-8a46-3ebc55b561a9"
   },
   "outputs": [
    {
     "name": "stdout",
     "output_type": "stream",
     "text": [
      "loss 1065.8909168056468\n",
      "loss 1031.8973304237663\n",
      "loss 1031.8973304205167\n",
      "loss 1031.897330420518\n",
      "loss 1031.897330420518\n",
      "loss 1031.897330420518\n",
      "loss 1031.897330420518\n",
      "loss 1031.897330420518\n",
      "loss 1031.897330420518\n",
      "loss 1031.897330420518\n"
     ]
    },
    {
     "data": {
      "text/plain": [
       "PCA_custom()"
      ]
     },
     "execution_count": 10,
     "metadata": {},
     "output_type": "execute_result"
    }
   ],
   "source": [
    "# Training loop\n",
    "\n",
    "n_epochs = 10\n",
    "for epoch in range(n_epochs):\n",
    "  pca_custom.train()\n",
    "  count = 0\n",
    "  count_loss = 0\n",
    "  prev = pca_custom.P\n",
    "  for i in range(100):\n",
    "    loss = criterion(pca_custom.P, tensor_data)\n",
    "    loss.backward()\n",
    "    optimizer.step()\n",
    "    \n",
    "    count += 1\n",
    "    count_loss += loss.data\n",
    "  # print(f'WHAT? {prev == pca_custom.P}')\n",
    "  print(f'loss {count_loss / count}')\n",
    "pca_custom.eval()"
   ]
  },
  {
   "cell_type": "code",
   "execution_count": null,
   "metadata": {
    "colab": {
     "base_uri": "https://localhost:8080/"
    },
    "executionInfo": {
     "elapsed": 55,
     "status": "ok",
     "timestamp": 1642708782942,
     "user": {
      "displayName": "Эльфат Сабитов",
      "photoUrl": "https://lh3.googleusercontent.com/a/default-user=s64",
      "userId": "15165866794648613016"
     },
     "user_tz": -180
    },
    "id": "v3b3G6r02str",
    "outputId": "3df1627e-4f50-4828-8996-0ded8123de87"
   },
   "outputs": [
    {
     "data": {
      "text/plain": [
       "torch.Size([2, 178])"
      ]
     },
     "execution_count": 11,
     "metadata": {},
     "output_type": "execute_result"
    }
   ],
   "source": [
    "projected_pca_custom = pca_custom(tensor_data)\n",
    "projected_pca_custom.size()"
   ]
  },
  {
   "cell_type": "markdown",
   "metadata": {
    "id": "d658HatjESej"
   },
   "source": [
    "# Plotting and comparing the results"
   ]
  },
  {
   "cell_type": "code",
   "execution_count": null,
   "metadata": {
    "colab": {
     "base_uri": "https://localhost:8080/",
     "height": 298
    },
    "executionInfo": {
     "elapsed": 52,
     "status": "ok",
     "timestamp": 1642708782943,
     "user": {
      "displayName": "Эльфат Сабитов",
      "photoUrl": "https://lh3.googleusercontent.com/a/default-user=s64",
      "userId": "15165866794648613016"
     },
     "user_tz": -180
    },
    "id": "1REIiDsK2ZSF",
    "outputId": "b868e336-d685-4cdd-b86b-c51be8b2372f"
   },
   "outputs": [
    {
     "data": {
      "text/plain": [
       "<matplotlib.legend.Legend at 0x7f0f7031cc10>"
      ]
     },
     "execution_count": 12,
     "metadata": {},
     "output_type": "execute_result"
    },
    {
     "data": {
      "image/png": "[encoded data removed]",
      "text/plain": [
       "<Figure size 432x288 with 1 Axes>"
      ]
     },
     "metadata": {
      "needs_background": "light"
     },
     "output_type": "display_data"
    }
   ],
   "source": [
    "projected_pca_custom = pca_custom(tensor_data).t().detach().numpy()\n",
    "\n",
    "for label in set(y):\n",
    "  plt.scatter(projected_pca_custom[np.where(y == label)][:,0], projected_pca_custom[np.where(y == label)][:,1], color=colors[label], label=label)\n",
    "plt.title('Custom PCA')\n",
    "plt.legend()"
   ]
  },
  {
   "cell_type": "code",
   "execution_count": null,
   "metadata": {
    "colab": {
     "base_uri": "https://localhost:8080/",
     "height": 298
    },
    "executionInfo": {
     "elapsed": 695,
     "status": "ok",
     "timestamp": 1642708783590,
     "user": {
      "displayName": "Эльфат Сабитов",
      "photoUrl": "https://lh3.googleusercontent.com/a/default-user=s64",
      "userId": "15165866794648613016"
     },
     "user_tz": -180
    },
    "id": "oTOrvOcMMEbH",
    "outputId": "36958ad0-d032-44a3-93c9-f63ec1f481fa"
   },
   "outputs": [
    {
     "data": {
      "text/plain": [
       "<matplotlib.legend.Legend at 0x7f0f702acc10>"
      ]
     },
     "execution_count": 13,
     "metadata": {},
     "output_type": "execute_result"
    },
    {
     "data": {
      "image/png": "[encoded data removed]",
      "text/plain": [
       "<Figure size 432x288 with 1 Axes>"
      ]
     },
     "metadata": {
      "needs_background": "light"
     },
     "output_type": "display_data"
    }
   ],
   "source": [
    "for label in set(y):\n",
    "  plt.scatter(projected_pca[np.where(y == label)][:,0], projected_pca[np.where(y == label)][:,1], color=colors[label], label=label)\n",
    "plt.title('Original PCA')\n",
    "plt.legend()"
   ]
  },
  {
   "cell_type": "code",
   "execution_count": null,
   "metadata": {
    "id": "BgQyUj_yEhTd"
   },
   "outputs": [],
   "source": []
  }
 ],
 "metadata": {
  "colab": {
   "authorship_tag": "ABX9TyMOBZEtsx1TTspjvlQ5kV9r",
   "collapsed_sections": [],
   "name": "Geometric PCA.ipynb",
   "provenance": []
  },
  "kernelspec": {
   "display_name": "Python 3",
   "language": "python",
   "name": "python3"
  },
  "language_info": {
   "codemirror_mode": {
    "name": "ipython",
    "version": 3
   },
   "file_extension": ".py",
   "mimetype": "text/x-python",
   "name": "python",
   "nbconvert_exporter": "python",
   "pygments_lexer": "ipython3",
   "version": "3.8.8"
  }
 },
 "nbformat": 4,
 "nbformat_minor": 1
}
